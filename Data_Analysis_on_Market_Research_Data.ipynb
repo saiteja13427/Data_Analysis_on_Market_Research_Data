{
 "cells": [
  {
   "cell_type": "markdown",
   "metadata": {},
   "source": [
    "# Data Analysis on Market Research Data"
   ]
  },
  {
   "cell_type": "code",
   "execution_count": 2,
   "metadata": {},
   "outputs": [],
   "source": [
    "import numpy as np\n",
    "import pandas as pd\n",
    "import matplotlib.pyplot as plt\n",
    "import seaborn as sns"
   ]
  },
  {
   "cell_type": "code",
   "execution_count": 8,
   "metadata": {},
   "outputs": [],
   "source": [
    "df = pd.read_csv(\"AProgrammingCourse.csv\")"
   ]
  },
  {
   "cell_type": "code",
   "execution_count": 13,
   "metadata": {},
   "outputs": [],
   "source": [
    "df.dropna(inplace=True)"
   ]
  },
  {
   "cell_type": "markdown",
   "metadata": {},
   "source": [
    "A part of the data(after removing Nan containning rows)"
   ]
  },
  {
   "cell_type": "code",
   "execution_count": 14,
   "metadata": {},
   "outputs": [
    {
     "data": {
      "text/html": [
       "<div>\n",
       "<style scoped>\n",
       "    .dataframe tbody tr th:only-of-type {\n",
       "        vertical-align: middle;\n",
       "    }\n",
       "\n",
       "    .dataframe tbody tr th {\n",
       "        vertical-align: top;\n",
       "    }\n",
       "\n",
       "    .dataframe thead th {\n",
       "        text-align: right;\n",
       "    }\n",
       "</style>\n",
       "<table border=\"1\" class=\"dataframe\">\n",
       "  <thead>\n",
       "    <tr style=\"text-align: right;\">\n",
       "      <th></th>\n",
       "      <th>What is your favorite programming language?</th>\n",
       "      <th>Reason for selecting your favorite programming language</th>\n",
       "      <th>What is your experience in your favorite language?</th>\n",
       "      <th>What is your most favorite concept in your most favorite language (just write one or two concepts)</th>\n",
       "    </tr>\n",
       "  </thead>\n",
       "  <tbody>\n",
       "    <tr>\n",
       "      <th>0</th>\n",
       "      <td>Python</td>\n",
       "      <td>Ease of learning</td>\n",
       "      <td>1 year</td>\n",
       "      <td>Data science</td>\n",
       "    </tr>\n",
       "    <tr>\n",
       "      <th>1</th>\n",
       "      <td>C</td>\n",
       "      <td>Versatile</td>\n",
       "      <td>No experience</td>\n",
       "      <td>Loops</td>\n",
       "    </tr>\n",
       "    <tr>\n",
       "      <th>3</th>\n",
       "      <td>Java</td>\n",
       "      <td>The language is useful in your field(ex java i...</td>\n",
       "      <td>1 year</td>\n",
       "      <td>Inheritance</td>\n",
       "    </tr>\n",
       "    <tr>\n",
       "      <th>6</th>\n",
       "      <td>Python</td>\n",
       "      <td>Has a demand in market</td>\n",
       "      <td>1 year</td>\n",
       "      <td>Ease to ml</td>\n",
       "    </tr>\n",
       "    <tr>\n",
       "      <th>7</th>\n",
       "      <td>C</td>\n",
       "      <td>Fun to learn</td>\n",
       "      <td>1 year</td>\n",
       "      <td>Pointers</td>\n",
       "    </tr>\n",
       "  </tbody>\n",
       "</table>\n",
       "</div>"
      ],
      "text/plain": [
       "  What is your favorite programming language?  \\\n",
       "0                                      Python   \n",
       "1                                           C   \n",
       "3                                        Java   \n",
       "6                                      Python   \n",
       "7                                           C   \n",
       "\n",
       "  Reason for selecting your favorite programming language  \\\n",
       "0                                   Ease of learning        \n",
       "1                                          Versatile        \n",
       "3  The language is useful in your field(ex java i...        \n",
       "6                             Has a demand in market        \n",
       "7                                       Fun to learn        \n",
       "\n",
       "  What is your experience in your favorite language?  \\\n",
       "0                                             1 year   \n",
       "1                                      No experience   \n",
       "3                                             1 year   \n",
       "6                                             1 year   \n",
       "7                                             1 year   \n",
       "\n",
       "  What is your most favorite concept in your most favorite language (just write one or two concepts)  \n",
       "0                                       Data science                                                  \n",
       "1                                              Loops                                                  \n",
       "3                                        Inheritance                                                  \n",
       "6                                         Ease to ml                                                  \n",
       "7                                           Pointers                                                  "
      ]
     },
     "execution_count": 14,
     "metadata": {},
     "output_type": "execute_result"
    }
   ],
   "source": [
    "df.head()"
   ]
  },
  {
   "cell_type": "markdown",
   "metadata": {},
   "source": [
    "A brief descripiton of this data"
   ]
  },
  {
   "cell_type": "code",
   "execution_count": 10,
   "metadata": {},
   "outputs": [
    {
     "data": {
      "text/html": [
       "<div>\n",
       "<style scoped>\n",
       "    .dataframe tbody tr th:only-of-type {\n",
       "        vertical-align: middle;\n",
       "    }\n",
       "\n",
       "    .dataframe tbody tr th {\n",
       "        vertical-align: top;\n",
       "    }\n",
       "\n",
       "    .dataframe thead th {\n",
       "        text-align: right;\n",
       "    }\n",
       "</style>\n",
       "<table border=\"1\" class=\"dataframe\">\n",
       "  <thead>\n",
       "    <tr style=\"text-align: right;\">\n",
       "      <th></th>\n",
       "      <th>What is your favorite programming language?</th>\n",
       "      <th>Reason for selecting your favorite programming language</th>\n",
       "      <th>What is your experience in your favorite language?</th>\n",
       "      <th>What is your most favorite concept in your most favorite language (just write one or two concepts)</th>\n",
       "    </tr>\n",
       "  </thead>\n",
       "  <tbody>\n",
       "    <tr>\n",
       "      <th>count</th>\n",
       "      <td>67</td>\n",
       "      <td>67</td>\n",
       "      <td>67</td>\n",
       "      <td>67</td>\n",
       "    </tr>\n",
       "    <tr>\n",
       "      <th>unique</th>\n",
       "      <td>4</td>\n",
       "      <td>7</td>\n",
       "      <td>5</td>\n",
       "      <td>54</td>\n",
       "    </tr>\n",
       "    <tr>\n",
       "      <th>top</th>\n",
       "      <td>Python</td>\n",
       "      <td>Ease of learning</td>\n",
       "      <td>1 year</td>\n",
       "      <td>Oops</td>\n",
       "    </tr>\n",
       "    <tr>\n",
       "      <th>freq</th>\n",
       "      <td>36</td>\n",
       "      <td>31</td>\n",
       "      <td>29</td>\n",
       "      <td>5</td>\n",
       "    </tr>\n",
       "  </tbody>\n",
       "</table>\n",
       "</div>"
      ],
      "text/plain": [
       "       What is your favorite programming language?  \\\n",
       "count                                           67   \n",
       "unique                                           4   \n",
       "top                                         Python   \n",
       "freq                                            36   \n",
       "\n",
       "       Reason for selecting your favorite programming language  \\\n",
       "count                                                  67        \n",
       "unique                                                  7        \n",
       "top                                      Ease of learning        \n",
       "freq                                                   31        \n",
       "\n",
       "       What is your experience in your favorite language?  \\\n",
       "count                                                  67   \n",
       "unique                                                  5   \n",
       "top                                                1 year   \n",
       "freq                                                   29   \n",
       "\n",
       "       What is your most favorite concept in your most favorite language (just write one or two concepts)  \n",
       "count                                                  67                                                  \n",
       "unique                                                 54                                                  \n",
       "top                                                  Oops                                                  \n",
       "freq                                                    5                                                  "
      ]
     },
     "execution_count": 10,
     "metadata": {},
     "output_type": "execute_result"
    }
   ],
   "source": [
    "df.describe()\n"
   ]
  },
  {
   "cell_type": "code",
   "execution_count": 11,
   "metadata": {},
   "outputs": [
    {
     "name": "stdout",
     "output_type": "stream",
     "text": [
      "<class 'pandas.core.frame.DataFrame'>\n",
      "Int64Index: 67 entries, 0 to 73\n",
      "Data columns (total 4 columns):\n",
      "What is your favorite programming language?                                                           67 non-null object\n",
      "Reason for selecting your favorite programming language                                               67 non-null object\n",
      "What is your experience in your favorite language?                                                    67 non-null object\n",
      "What is your most favorite concept in your most favorite language (just write one or two concepts)    67 non-null object\n",
      "dtypes: object(4)\n",
      "memory usage: 1.6+ KB\n"
     ]
    }
   ],
   "source": [
    "df.info()"
   ]
  },
  {
   "cell_type": "code",
   "execution_count": 18,
   "metadata": {},
   "outputs": [],
   "source": [
    "grpby = df.groupby(\"What is your favorite programming language?\")"
   ]
  },
  {
   "cell_type": "markdown",
   "metadata": {},
   "source": [
    "Programming language based details of the data: "
   ]
  },
  {
   "cell_type": "code",
   "execution_count": 27,
   "metadata": {},
   "outputs": [
    {
     "data": {
      "text/html": [
       "<div>\n",
       "<style scoped>\n",
       "    .dataframe tbody tr th:only-of-type {\n",
       "        vertical-align: middle;\n",
       "    }\n",
       "\n",
       "    .dataframe tbody tr th {\n",
       "        vertical-align: top;\n",
       "    }\n",
       "\n",
       "    .dataframe thead th {\n",
       "        text-align: right;\n",
       "    }\n",
       "</style>\n",
       "<table border=\"1\" class=\"dataframe\">\n",
       "  <thead>\n",
       "    <tr style=\"text-align: right;\">\n",
       "      <th></th>\n",
       "      <th>What is your favorite programming language?</th>\n",
       "      <th>C</th>\n",
       "      <th>C++</th>\n",
       "      <th>Java</th>\n",
       "      <th>Python</th>\n",
       "    </tr>\n",
       "  </thead>\n",
       "  <tbody>\n",
       "    <tr>\n",
       "      <th rowspan=\"4\" valign=\"top\">Reason for selecting your favorite programming language</th>\n",
       "      <th>count</th>\n",
       "      <td>13</td>\n",
       "      <td>4</td>\n",
       "      <td>14</td>\n",
       "      <td>36</td>\n",
       "    </tr>\n",
       "    <tr>\n",
       "      <th>unique</th>\n",
       "      <td>4</td>\n",
       "      <td>2</td>\n",
       "      <td>4</td>\n",
       "      <td>5</td>\n",
       "    </tr>\n",
       "    <tr>\n",
       "      <th>top</th>\n",
       "      <td>Ease of learning</td>\n",
       "      <td>Ease of learning</td>\n",
       "      <td>The language is useful in your field(ex java i...</td>\n",
       "      <td>Ease of learning</td>\n",
       "    </tr>\n",
       "    <tr>\n",
       "      <th>freq</th>\n",
       "      <td>7</td>\n",
       "      <td>3</td>\n",
       "      <td>6</td>\n",
       "      <td>20</td>\n",
       "    </tr>\n",
       "    <tr>\n",
       "      <th rowspan=\"4\" valign=\"top\">What is your experience in your favorite language?</th>\n",
       "      <th>count</th>\n",
       "      <td>13</td>\n",
       "      <td>4</td>\n",
       "      <td>14</td>\n",
       "      <td>36</td>\n",
       "    </tr>\n",
       "    <tr>\n",
       "      <th>unique</th>\n",
       "      <td>5</td>\n",
       "      <td>2</td>\n",
       "      <td>4</td>\n",
       "      <td>4</td>\n",
       "    </tr>\n",
       "    <tr>\n",
       "      <th>top</th>\n",
       "      <td>1 year</td>\n",
       "      <td>2 years</td>\n",
       "      <td>1 year</td>\n",
       "      <td>1 year</td>\n",
       "    </tr>\n",
       "    <tr>\n",
       "      <th>freq</th>\n",
       "      <td>4</td>\n",
       "      <td>3</td>\n",
       "      <td>6</td>\n",
       "      <td>19</td>\n",
       "    </tr>\n",
       "    <tr>\n",
       "      <th rowspan=\"4\" valign=\"top\">What is your most favorite concept in your most favorite language (just write one or two concepts)</th>\n",
       "      <th>count</th>\n",
       "      <td>13</td>\n",
       "      <td>4</td>\n",
       "      <td>14</td>\n",
       "      <td>36</td>\n",
       "    </tr>\n",
       "    <tr>\n",
       "      <th>unique</th>\n",
       "      <td>11</td>\n",
       "      <td>4</td>\n",
       "      <td>13</td>\n",
       "      <td>29</td>\n",
       "    </tr>\n",
       "    <tr>\n",
       "      <th>top</th>\n",
       "      <td>Program formats,operators</td>\n",
       "      <td>Feels more organizes and easy and gives a good...</td>\n",
       "      <td>OOP</td>\n",
       "      <td>Oops</td>\n",
       "    </tr>\n",
       "    <tr>\n",
       "      <th>freq</th>\n",
       "      <td>2</td>\n",
       "      <td>1</td>\n",
       "      <td>2</td>\n",
       "      <td>4</td>\n",
       "    </tr>\n",
       "  </tbody>\n",
       "</table>\n",
       "</div>"
      ],
      "text/plain": [
       "What is your favorite programming language?                                        C  \\\n",
       "Reason for selecting your favorite programming ... count                          13   \n",
       "                                                   unique                          4   \n",
       "                                                   top              Ease of learning   \n",
       "                                                   freq                            7   \n",
       "What is your experience in your favorite language? count                          13   \n",
       "                                                   unique                          5   \n",
       "                                                   top                        1 year   \n",
       "                                                   freq                            4   \n",
       "What is your most favorite concept in your most... count                          13   \n",
       "                                                   unique                         11   \n",
       "                                                   top     Program formats,operators   \n",
       "                                                   freq                            2   \n",
       "\n",
       "What is your favorite programming language?                                                              C++  \\\n",
       "Reason for selecting your favorite programming ... count                                                   4   \n",
       "                                                   unique                                                  2   \n",
       "                                                   top                                      Ease of learning   \n",
       "                                                   freq                                                    3   \n",
       "What is your experience in your favorite language? count                                                   4   \n",
       "                                                   unique                                                  2   \n",
       "                                                   top                                               2 years   \n",
       "                                                   freq                                                    3   \n",
       "What is your most favorite concept in your most... count                                                   4   \n",
       "                                                   unique                                                  4   \n",
       "                                                   top     Feels more organizes and easy and gives a good...   \n",
       "                                                   freq                                                    1   \n",
       "\n",
       "What is your favorite programming language?                                                             Java  \\\n",
       "Reason for selecting your favorite programming ... count                                                  14   \n",
       "                                                   unique                                                  4   \n",
       "                                                   top     The language is useful in your field(ex java i...   \n",
       "                                                   freq                                                    6   \n",
       "What is your experience in your favorite language? count                                                  14   \n",
       "                                                   unique                                                  4   \n",
       "                                                   top                                                1 year   \n",
       "                                                   freq                                                    6   \n",
       "What is your most favorite concept in your most... count                                                  14   \n",
       "                                                   unique                                                 13   \n",
       "                                                   top                                                   OOP   \n",
       "                                                   freq                                                    2   \n",
       "\n",
       "What is your favorite programming language?                          Python  \n",
       "Reason for selecting your favorite programming ... count                 36  \n",
       "                                                   unique                 5  \n",
       "                                                   top     Ease of learning  \n",
       "                                                   freq                  20  \n",
       "What is your experience in your favorite language? count                 36  \n",
       "                                                   unique                 4  \n",
       "                                                   top               1 year  \n",
       "                                                   freq                  19  \n",
       "What is your most favorite concept in your most... count                 36  \n",
       "                                                   unique                29  \n",
       "                                                   top                 Oops  \n",
       "                                                   freq                   4  "
      ]
     },
     "execution_count": 27,
     "metadata": {},
     "output_type": "execute_result"
    }
   ],
   "source": [
    "brief = grpby.describe().transpose()\n",
    "brief"
   ]
  },
  {
   "cell_type": "markdown",
   "metadata": {},
   "source": [
    "Finding out most favourite programming language from the data:"
   ]
  },
  {
   "cell_type": "code",
   "execution_count": 63,
   "metadata": {},
   "outputs": [
    {
     "data": {
      "text/html": [
       "<div>\n",
       "<style scoped>\n",
       "    .dataframe tbody tr th:only-of-type {\n",
       "        vertical-align: middle;\n",
       "    }\n",
       "\n",
       "    .dataframe tbody tr th {\n",
       "        vertical-align: top;\n",
       "    }\n",
       "\n",
       "    .dataframe thead th {\n",
       "        text-align: right;\n",
       "    }\n",
       "</style>\n",
       "<table border=\"1\" class=\"dataframe\">\n",
       "  <thead>\n",
       "    <tr style=\"text-align: right;\">\n",
       "      <th></th>\n",
       "      <th>Languages</th>\n",
       "      <th>Number of People</th>\n",
       "    </tr>\n",
       "  </thead>\n",
       "  <tbody>\n",
       "    <tr>\n",
       "      <th>0</th>\n",
       "      <td>Python</td>\n",
       "      <td>36</td>\n",
       "    </tr>\n",
       "    <tr>\n",
       "      <th>1</th>\n",
       "      <td>C</td>\n",
       "      <td>14</td>\n",
       "    </tr>\n",
       "    <tr>\n",
       "      <th>2</th>\n",
       "      <td>Java</td>\n",
       "      <td>13</td>\n",
       "    </tr>\n",
       "    <tr>\n",
       "      <th>3</th>\n",
       "      <td>C++</td>\n",
       "      <td>4</td>\n",
       "    </tr>\n",
       "  </tbody>\n",
       "</table>\n",
       "</div>"
      ],
      "text/plain": [
       "  Languages  Number of People\n",
       "0    Python                36\n",
       "1         C                14\n",
       "2      Java                13\n",
       "3       C++                 4"
      ]
     },
     "execution_count": 63,
     "metadata": {},
     "output_type": "execute_result"
    }
   ],
   "source": [
    "number = list(df[\"What is your favorite programming language?\"].value_counts())\n",
    "languages = list(df[\"What is your favorite programming language?\"].unique())\n",
    "mostliked = pd.DataFrame({\n",
    "    \"Languages\":languages,\n",
    "    \"Number of People\":number\n",
    "})\n",
    "mostliked\n"
   ]
  },
  {
   "cell_type": "code",
   "execution_count": 68,
   "metadata": {},
   "outputs": [
    {
     "data": {
      "text/plain": [
       "Text(0.5, 1.0, 'Most liked programming Language')"
      ]
     },
     "execution_count": 68,
     "metadata": {},
     "output_type": "execute_result"
    },
    {
     "data": {
      "image/png": "[encoded data removed]",
      "text/plain": [
       "<Figure size 432x288 with 1 Axes>"
      ]
     },
     "metadata": {
      "needs_background": "light"
     },
     "output_type": "display_data"
    }
   ],
   "source": [
    "plt.bar(mostliked[\"Languages\"], mostliked[\"Number of People\"], color=[\"y\",\"r\",\"g\",\"b\"])\n",
    "plt.xlabel(\"Language\")\n",
    "plt.ylabel(\"Number of people\")\n",
    "plt.title(\"Most liked programming Language\")"
   ]
  },
  {
   "cell_type": "code",
   "execution_count": 110,
   "metadata": {},
   "outputs": [
    {
     "data": {
      "image/png": "[encoded data removed]",
      "text/plain": [
       "<Figure size 432x288 with 1 Axes>"
      ]
     },
     "metadata": {},
     "output_type": "display_data"
    }
   ],
   "source": [
    "plt.pie(mostliked[\"Number of People\"], labels =mostliked[\"Languages\"] , explode = [0,0,0,0.2] )\n",
    "plt.show()"
   ]
  },
  {
   "cell_type": "markdown",
   "metadata": {},
   "source": [
    "As Python is the highest liked language let us analyse the experience people have in Python and the reason they gave for liking python"
   ]
  },
  {
   "cell_type": "code",
   "execution_count": 81,
   "metadata": {},
   "outputs": [
    {
     "data": {
      "text/html": [
       "<div>\n",
       "<style scoped>\n",
       "    .dataframe tbody tr th:only-of-type {\n",
       "        vertical-align: middle;\n",
       "    }\n",
       "\n",
       "    .dataframe tbody tr th {\n",
       "        vertical-align: top;\n",
       "    }\n",
       "\n",
       "    .dataframe thead th {\n",
       "        text-align: right;\n",
       "    }\n",
       "</style>\n",
       "<table border=\"1\" class=\"dataframe\">\n",
       "  <thead>\n",
       "    <tr style=\"text-align: right;\">\n",
       "      <th></th>\n",
       "      <th>What is your favorite programming language?</th>\n",
       "      <th>Reason for selecting your favorite programming language</th>\n",
       "      <th>What is your experience in your favorite language?</th>\n",
       "      <th>What is your most favorite concept in your most favorite language (just write one or two concepts)</th>\n",
       "    </tr>\n",
       "  </thead>\n",
       "  <tbody>\n",
       "    <tr>\n",
       "      <th>0</th>\n",
       "      <td>Python</td>\n",
       "      <td>Ease of learning</td>\n",
       "      <td>1 year</td>\n",
       "      <td>Data science</td>\n",
       "    </tr>\n",
       "    <tr>\n",
       "      <th>1</th>\n",
       "      <td>Python</td>\n",
       "      <td>Has a demand in market</td>\n",
       "      <td>1 year</td>\n",
       "      <td>Ease to ml</td>\n",
       "    </tr>\n",
       "    <tr>\n",
       "      <th>2</th>\n",
       "      <td>Python</td>\n",
       "      <td>Has a demand in market</td>\n",
       "      <td>No experience</td>\n",
       "      <td>I don't know concepts in python</td>\n",
       "    </tr>\n",
       "    <tr>\n",
       "      <th>3</th>\n",
       "      <td>Python</td>\n",
       "      <td>Versatile</td>\n",
       "      <td>No experience</td>\n",
       "      <td>Tuple, dictionary usages Looping statements</td>\n",
       "    </tr>\n",
       "    <tr>\n",
       "      <th>4</th>\n",
       "      <td>Python</td>\n",
       "      <td>Has a demand in market</td>\n",
       "      <td>1 year</td>\n",
       "      <td>Oops</td>\n",
       "    </tr>\n",
       "  </tbody>\n",
       "</table>\n",
       "</div>"
      ],
      "text/plain": [
       "  What is your favorite programming language?  \\\n",
       "0                                      Python   \n",
       "1                                      Python   \n",
       "2                                      Python   \n",
       "3                                      Python   \n",
       "4                                      Python   \n",
       "\n",
       "  Reason for selecting your favorite programming language  \\\n",
       "0                                   Ease of learning        \n",
       "1                             Has a demand in market        \n",
       "2                             Has a demand in market        \n",
       "3                                          Versatile        \n",
       "4                             Has a demand in market        \n",
       "\n",
       "  What is your experience in your favorite language?  \\\n",
       "0                                             1 year   \n",
       "1                                             1 year   \n",
       "2                                      No experience   \n",
       "3                                      No experience   \n",
       "4                                             1 year   \n",
       "\n",
       "  What is your most favorite concept in your most favorite language (just write one or two concepts)  \n",
       "0                                       Data science                                                  \n",
       "1                                         Ease to ml                                                  \n",
       "2                    I don't know concepts in python                                                  \n",
       "3        Tuple, dictionary usages Looping statements                                                  \n",
       "4                                               Oops                                                  "
      ]
     },
     "execution_count": 81,
     "metadata": {},
     "output_type": "execute_result"
    }
   ],
   "source": [
    "py = df[df[\"What is your favorite programming language?\"] == \"Python\"]\n",
    "py.reset_index(inplace = True)\n",
    "py.drop(\"index\", axis =1, inplace = True,errors = \"ignore\")\n",
    "py.head()"
   ]
  },
  {
   "cell_type": "markdown",
   "metadata": {},
   "source": [
    "Reason:"
   ]
  },
  {
   "cell_type": "code",
   "execution_count": 95,
   "metadata": {},
   "outputs": [
    {
     "data": {
      "text/html": [
       "<div>\n",
       "<style scoped>\n",
       "    .dataframe tbody tr th:only-of-type {\n",
       "        vertical-align: middle;\n",
       "    }\n",
       "\n",
       "    .dataframe tbody tr th {\n",
       "        vertical-align: top;\n",
       "    }\n",
       "\n",
       "    .dataframe thead th {\n",
       "        text-align: right;\n",
       "    }\n",
       "</style>\n",
       "<table border=\"1\" class=\"dataframe\">\n",
       "  <thead>\n",
       "    <tr style=\"text-align: right;\">\n",
       "      <th></th>\n",
       "      <th>Reason</th>\n",
       "      <th>Number of People</th>\n",
       "    </tr>\n",
       "  </thead>\n",
       "  <tbody>\n",
       "    <tr>\n",
       "      <th>0</th>\n",
       "      <td>Ease of learning</td>\n",
       "      <td>20</td>\n",
       "    </tr>\n",
       "    <tr>\n",
       "      <th>1</th>\n",
       "      <td>Has a demand in market</td>\n",
       "      <td>9</td>\n",
       "    </tr>\n",
       "    <tr>\n",
       "      <th>2</th>\n",
       "      <td>Versatile</td>\n",
       "      <td>5</td>\n",
       "    </tr>\n",
       "    <tr>\n",
       "      <th>3</th>\n",
       "      <td>The language is useful in your field(ex java i...</td>\n",
       "      <td>1</td>\n",
       "    </tr>\n",
       "    <tr>\n",
       "      <th>4</th>\n",
       "      <td>It has many libraries and extensions such as p...</td>\n",
       "      <td>1</td>\n",
       "    </tr>\n",
       "  </tbody>\n",
       "</table>\n",
       "</div>"
      ],
      "text/plain": [
       "                                              Reason  Number of People\n",
       "0                                   Ease of learning                20\n",
       "1                             Has a demand in market                 9\n",
       "2                                          Versatile                 5\n",
       "3  The language is useful in your field(ex java i...                 1\n",
       "4  It has many libraries and extensions such as p...                 1"
      ]
     },
     "execution_count": 95,
     "metadata": {},
     "output_type": "execute_result"
    }
   ],
   "source": [
    "number = list(py[\"Reason for selecting your favorite programming language\"].value_counts())\n",
    "reason = list(py[\"Reason for selecting your favorite programming language\"].unique())\n",
    "Reason = pd.DataFrame({\n",
    "    \"Reason\":reason,\n",
    "    \"Number of People\":number\n",
    "})\n",
    "Reason\n"
   ]
  },
  {
   "cell_type": "code",
   "execution_count": 109,
   "metadata": {},
   "outputs": [
    {
     "data": {
      "image/png": "[encoded data removed]",
      "text/plain": [
       "<Figure size 432x288 with 1 Axes>"
      ]
     },
     "metadata": {},
     "output_type": "display_data"
    }
   ],
   "source": [
    "plt.pie(Reason[\"Number of People\"],labels=Reason[\"Reason\"],colors = ['r','g','b','y','pink'],explode = [0,0,0,0,0.4])\n",
    "plt.show()\n"
   ]
  },
  {
   "cell_type": "markdown",
   "metadata": {},
   "source": [
    "Experience:"
   ]
  },
  {
   "cell_type": "code",
   "execution_count": 111,
   "metadata": {},
   "outputs": [
    {
     "data": {
      "text/html": [
       "<div>\n",
       "<style scoped>\n",
       "    .dataframe tbody tr th:only-of-type {\n",
       "        vertical-align: middle;\n",
       "    }\n",
       "\n",
       "    .dataframe tbody tr th {\n",
       "        vertical-align: top;\n",
       "    }\n",
       "\n",
       "    .dataframe thead th {\n",
       "        text-align: right;\n",
       "    }\n",
       "</style>\n",
       "<table border=\"1\" class=\"dataframe\">\n",
       "  <thead>\n",
       "    <tr style=\"text-align: right;\">\n",
       "      <th></th>\n",
       "      <th>Experience</th>\n",
       "      <th>Number of People</th>\n",
       "    </tr>\n",
       "  </thead>\n",
       "  <tbody>\n",
       "    <tr>\n",
       "      <th>0</th>\n",
       "      <td>1 year</td>\n",
       "      <td>19</td>\n",
       "    </tr>\n",
       "    <tr>\n",
       "      <th>1</th>\n",
       "      <td>No experience</td>\n",
       "      <td>11</td>\n",
       "    </tr>\n",
       "    <tr>\n",
       "      <th>2</th>\n",
       "      <td>More than 4 years</td>\n",
       "      <td>3</td>\n",
       "    </tr>\n",
       "    <tr>\n",
       "      <th>3</th>\n",
       "      <td>2 years</td>\n",
       "      <td>3</td>\n",
       "    </tr>\n",
       "  </tbody>\n",
       "</table>\n",
       "</div>"
      ],
      "text/plain": [
       "          Experience  Number of People\n",
       "0             1 year                19\n",
       "1      No experience                11\n",
       "2  More than 4 years                 3\n",
       "3            2 years                 3"
      ]
     },
     "execution_count": 111,
     "metadata": {},
     "output_type": "execute_result"
    }
   ],
   "source": [
    "number = list(py[\"What is your experience in your favorite language?\"].value_counts())\n",
    "experience = list(py[\"What is your experience in your favorite language?\"].unique())\n",
    "Experience = pd.DataFrame({\n",
    "    \"Experience\":experience,\n",
    "    \"Number of People\":number\n",
    "})\n",
    "Experience\n"
   ]
  },
  {
   "cell_type": "code",
   "execution_count": 112,
   "metadata": {},
   "outputs": [
    {
     "data": {
      "image/png": "[encoded data removed]",
      "text/plain": [
       "<Figure size 432x288 with 1 Axes>"
      ]
     },
     "metadata": {},
     "output_type": "display_data"
    }
   ],
   "source": [
    "plt.pie(Experience[\"Number of People\"],labels=Experience[\"Experience\"],colors = ['r','g','b','y'],explode = [0,0,0,0.4])\n",
    "plt.show()"
   ]
  },
  {
   "cell_type": "code",
   "execution_count": null,
   "metadata": {},
   "outputs": [],
   "source": []
  }
 ],
 "metadata": {
  "kernelspec": {
   "display_name": "Python 3",
   "language": "python",
   "name": "python3"
  },
  "language_info": {
   "codemirror_mode": {
    "name": "ipython",
    "version": 3
   },
   "file_extension": ".py",
   "mimetype": "text/x-python",
   "name": "python",
   "nbconvert_exporter": "python",
   "pygments_lexer": "ipython3",
   "version": "3.7.1"
  }
 },
 "nbformat": 4,
 "nbformat_minor": 2
}
